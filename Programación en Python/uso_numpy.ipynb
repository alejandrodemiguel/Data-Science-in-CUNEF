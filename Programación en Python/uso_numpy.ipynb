{
 "cells": [
  {
   "cell_type": "markdown",
   "metadata": {},
   "source": [
    "## Aplicación de NumPy\n",
    "\n",
    "-----------------------\n",
    "\n",
    "#### Ejemplo 1\n",
    "\n",
    "Los datos contenidos en el fichero [datos.txt](./datos.txt) describe las poblaciones de tres tipos de serpientes en el sur de Africa durante 20 años."
   ]
  },
  {
   "cell_type": "code",
   "execution_count": 3,
   "metadata": {},
   "outputs": [
    {
     "data": {
      "text/plain": [
       "array([[  2000.,  30000.,   3000.,  38300.],\n",
       "       [  2001.,  37200.,   6100.,  48200.],\n",
       "       [  2002.,  60200.,   9800.,  31600.],\n",
       "       [  2003.,  77300.,  36200.,  38200.],\n",
       "       [  2004.,  36300.,  69300.,  30600.],\n",
       "       [  2005.,  20600.,  31700.,  49800.],\n",
       "       [  2006.,  18100.,  19000.,  38600.],\n",
       "       [  2007.,  21300.,  13000.,  32300.],\n",
       "       [  2008.,  22000.,   8300.,  43600.],\n",
       "       [  2009.,  26300.,   9100.,  32100.],\n",
       "       [  2010.,  27100.,   7300.,  36000.],\n",
       "       [  2011.,  30300.,   8000.,  36800.],\n",
       "       [  2012.,  67000.,  12300.,  33800.],\n",
       "       [  2013.,  76600.,  19600.,  30900.],\n",
       "       [  2014.,  62300.,  36700.,  49300.],\n",
       "       [  2015.,  19600.,  61100.,  39000.],\n",
       "       [  2016.,  11200.,  29700.,  36700.],\n",
       "       [  2017.,   7600.,  16800.,  41800.],\n",
       "       [  2018.,  13600.,   9700.,  33300.],\n",
       "       [  2019.,  16200.,  10100.,  31300.],\n",
       "       [  2020.,  23700.,   8600.,  47300.]])"
      ]
     },
     "execution_count": 3,
     "metadata": {},
     "output_type": "execute_result"
    }
   ],
   "source": [
    "import numpy as np\n",
    "data = np.loadtxt('./datos.txt')    # carga de los datos\n",
    "data"
   ]
  },
  {
   "cell_type": "code",
   "execution_count": 4,
   "metadata": {},
   "outputs": [
    {
     "data": {
      "text/plain": [
       "(21, 4)"
      ]
     },
     "execution_count": 4,
     "metadata": {},
     "output_type": "execute_result"
    }
   ],
   "source": [
    "data.shape #21 filas, 4 columnas"
   ]
  },
  {
   "cell_type": "markdown",
   "metadata": {},
   "source": [
    "* Cálculo de la media de población de cada tipo a lo largo del tiempo.\n"
   ]
  },
  {
   "cell_type": "code",
   "execution_count": null,
   "metadata": {
    "collapsed": true
   },
   "outputs": [],
   "source": [
    "d = data[:, 1:] #por la profesora"
   ]
  },
  {
   "cell_type": "code",
   "execution_count": null,
   "metadata": {
    "collapsed": true
   },
   "outputs": [],
   "source": [
    "d.mean(axis = 0) #por la profesora"
   ]
  },
  {
   "cell_type": "code",
   "execution_count": 91,
   "metadata": {},
   "outputs": [
    {
     "data": {
      "text/plain": [
       "33547.619047619046"
      ]
     },
     "execution_count": 91,
     "metadata": {},
     "output_type": "execute_result"
    }
   ],
   "source": [
    "tipoA = data[:, 1]\n",
    "np.mean(tipoA)"
   ]
  },
  {
   "cell_type": "code",
   "execution_count": 92,
   "metadata": {},
   "outputs": [
    {
     "data": {
      "text/plain": [
       "20257.142857142859"
      ]
     },
     "execution_count": 92,
     "metadata": {},
     "output_type": "execute_result"
    }
   ],
   "source": [
    "tipoB = data[:, 2]\n",
    "np.mean(tipoB)"
   ]
  },
  {
   "cell_type": "code",
   "execution_count": 93,
   "metadata": {},
   "outputs": [
    {
     "data": {
      "text/plain": [
       "38071.428571428572"
      ]
     },
     "execution_count": 93,
     "metadata": {},
     "output_type": "execute_result"
    }
   ],
   "source": [
    "tipoC = data[:, 3]\n",
    "np.mean(tipoC)"
   ]
  },
  {
   "cell_type": "code",
   "execution_count": 102,
   "metadata": {},
   "outputs": [
    {
     "data": {
      "text/plain": [
       "array([ 33547.61904762,  20257.14285714,  38071.42857143])"
      ]
     },
     "execution_count": 102,
     "metadata": {},
     "output_type": "execute_result"
    }
   ],
   "source": [
    "medias = np.array([np.mean(tipoA), np.mean(tipoB), np.mean(tipoC)])\n",
    "medias"
   ]
  },
  {
   "cell_type": "markdown",
   "metadata": {},
   "source": [
    "* Cálculo de la __desviación estándar__ de la muestra. Se trata de una medida de dispersión para variables. Muestra la agrupación de los datos alrededor de un valor central (la media o promedio)."
   ]
  },
  {
   "cell_type": "code",
   "execution_count": null,
   "metadata": {
    "collapsed": true
   },
   "outputs": [],
   "source": [
    "d.std(axis = 0) #por la profesora"
   ]
  },
  {
   "cell_type": "code",
   "execution_count": 48,
   "metadata": {},
   "outputs": [
    {
     "data": {
      "text/plain": [
       "21173.559861020269"
      ]
     },
     "execution_count": 48,
     "metadata": {},
     "output_type": "execute_result"
    }
   ],
   "source": [
    "np.std(tipoA)"
   ]
  },
  {
   "cell_type": "code",
   "execution_count": 49,
   "metadata": {},
   "outputs": [
    {
     "data": {
      "text/plain": [
       "17581.932594043712"
      ]
     },
     "execution_count": 49,
     "metadata": {},
     "output_type": "execute_result"
    }
   ],
   "source": [
    "np.std(tipoB)"
   ]
  },
  {
   "cell_type": "code",
   "execution_count": 50,
   "metadata": {},
   "outputs": [
    {
     "data": {
      "text/plain": [
       "6209.9108848097749"
      ]
     },
     "execution_count": 50,
     "metadata": {},
     "output_type": "execute_result"
    }
   ],
   "source": [
    "np.std(tipoC)"
   ]
  },
  {
   "cell_type": "code",
   "execution_count": 103,
   "metadata": {},
   "outputs": [
    {
     "data": {
      "text/plain": [
       "array([ 21173.55986102,  17581.93259404,   6209.91088481])"
      ]
     },
     "execution_count": 103,
     "metadata": {},
     "output_type": "execute_result"
    }
   ],
   "source": [
    "stds = np.array([np.std(tipoA), np.std(tipoB), np.std(tipoC)])\n",
    "stds"
   ]
  },
  {
   "cell_type": "markdown",
   "metadata": {},
   "source": [
    "* ¿Qué especie ha tenido más población por año?"
   ]
  },
  {
   "cell_type": "code",
   "execution_count": null,
   "metadata": {
    "collapsed": true
   },
   "outputs": [],
   "source": [
    "maximo = d.max(axis = 1) #por la profesora"
   ]
  },
  {
   "cell_type": "code",
   "execution_count": null,
   "metadata": {
    "collapsed": true
   },
   "outputs": [],
   "source": [
    "especie = d.argmax(axis = 1) + 1 #especie 1, especie 2 y especie 3 #por la profesora"
   ]
  },
  {
   "cell_type": "code",
   "execution_count": null,
   "metadata": {
    "collapsed": true
   },
   "outputs": [],
   "source": [
    "valores = list(zip(especie, maximo)) #por la profesora"
   ]
  },
  {
   "cell_type": "code",
   "execution_count": null,
   "metadata": {
    "collapsed": true
   },
   "outputs": [],
   "source": [
    "año = data[: , 0] #por la profesora"
   ]
  },
  {
   "cell_type": "code",
   "execution_count": null,
   "metadata": {
    "collapsed": true
   },
   "outputs": [],
   "source": [
    "d = dict(zip(year, valores)) #por la profesora"
   ]
  },
  {
   "cell_type": "code",
   "execution_count": null,
   "metadata": {
    "collapsed": true
   },
   "outputs": [],
   "source": [
    "d2 = { int(c) : v for c,v in d.items()} #quitando los decimales de los años, listas por comprension #por la profesora"
   ]
  },
  {
   "cell_type": "code",
   "execution_count": null,
   "metadata": {
    "collapsed": true
   },
   "outputs": [],
   "source": [
    "d2 = { int(c) : (e, int(m) ) for c, (e,m) in d.items()} #por la profesora"
   ]
  },
  {
   "cell_type": "code",
   "execution_count": 135,
   "metadata": {
    "collapsed": true
   },
   "outputs": [],
   "source": [
    "data2 = data[:, (1,2,3)]"
   ]
  },
  {
   "cell_type": "code",
   "execution_count": 109,
   "metadata": {},
   "outputs": [
    {
     "data": {
      "text/plain": [
       "array([ 38300.,  48200.,  60200.,  77300.,  69300.,  49800.,  38600.,\n",
       "        32300.,  43600.,  32100.,  36000.,  36800.,  67000.,  76600.,\n",
       "        62300.,  61100.,  36700.,  41800.,  33300.,  31300.,  47300.])"
      ]
     },
     "execution_count": 109,
     "metadata": {},
     "output_type": "execute_result"
    }
   ],
   "source": [
    "maximos = np.max(data2, axis = 1)\n",
    "maximos"
   ]
  },
  {
   "cell_type": "code",
   "execution_count": 126,
   "metadata": {},
   "outputs": [
    {
     "name": "stdout",
     "output_type": "stream",
     "text": [
      "['Tipo C', 'Tipo C', 'Tipo A', 'Tipo C', 'Tipo A', 'Tipo C', 'Tipo B', 'Tipo C', 'Tipo C', 'Tipo C', 'Tipo C', 'Tipo C', 'Tipo C', 'Tipo C', 'Tipo A', 'Tipo C', 'Tipo A', 'Tipo C', 'Tipo A', 'Tipo C', 'Tipo B', 'Tipo B', 'Tipo C', 'Tipo C', 'Tipo C', 'Tipo C']\n"
     ]
    }
   ],
   "source": [
    "especies = []\n",
    "for i in maximos:\n",
    "    if i in tipoA:\n",
    "        especies.append('Tipo A')\n",
    "    if i in tipoB:\n",
    "        especies.append('Tipo B')\n",
    "    else:\n",
    "        especies.append('Tipo C')\n",
    "             \n",
    "print(especies)"
   ]
  },
  {
   "cell_type": "code",
   "execution_count": 136,
   "metadata": {
    "collapsed": true
   },
   "outputs": [],
   "source": [
    "años = list(range(2000, 2021, 1))"
   ]
  },
  {
   "cell_type": "code",
   "execution_count": 133,
   "metadata": {},
   "outputs": [
    {
     "data": {
      "text/plain": [
       "[(2000, 'Tipo C'),\n",
       " (2001, 'Tipo C'),\n",
       " (2002, 'Tipo A'),\n",
       " (2003, 'Tipo C'),\n",
       " (2004, 'Tipo A'),\n",
       " (2005, 'Tipo C'),\n",
       " (2006, 'Tipo B'),\n",
       " (2007, 'Tipo C'),\n",
       " (2008, 'Tipo C'),\n",
       " (2009, 'Tipo C'),\n",
       " (2010, 'Tipo C'),\n",
       " (2011, 'Tipo C'),\n",
       " (2012, 'Tipo C'),\n",
       " (2013, 'Tipo C'),\n",
       " (2014, 'Tipo A'),\n",
       " (2015, 'Tipo C'),\n",
       " (2016, 'Tipo A'),\n",
       " (2017, 'Tipo C'),\n",
       " (2018, 'Tipo A'),\n",
       " (2019, 'Tipo C'),\n",
       " (2020, 'Tipo B')]"
      ]
     },
     "execution_count": 133,
     "metadata": {},
     "output_type": "execute_result"
    }
   ],
   "source": [
    "solucion = zip(años, especies)\n",
    "list(solucion)"
   ]
  },
  {
   "cell_type": "markdown",
   "metadata": {},
   "source": [
    "------------------------"
   ]
  }
 ],
 "metadata": {
  "anaconda-cloud": {},
  "kernelspec": {
   "display_name": "Python 3",
   "language": "python",
   "name": "python3"
  },
  "language_info": {
   "codemirror_mode": {
    "name": "ipython",
    "version": 3
   },
   "file_extension": ".py",
   "mimetype": "text/x-python",
   "name": "python",
   "nbconvert_exporter": "python",
   "pygments_lexer": "ipython3",
   "version": "3.6.1"
  },
  "toc": {
   "colors": {
    "hover_highlight": "#DAA520",
    "running_highlight": "#FF0000",
    "selected_highlight": "#FFD700"
   },
   "moveMenuLeft": true,
   "nav_menu": {
    "height": "68px",
    "width": "252px"
   },
   "navigate_menu": true,
   "number_sections": true,
   "sideBar": true,
   "threshold": 4,
   "toc_cell": false,
   "toc_section_display": "block",
   "toc_window_display": false,
   "widenNotebook": false
  }
 },
 "nbformat": 4,
 "nbformat_minor": 1
}
